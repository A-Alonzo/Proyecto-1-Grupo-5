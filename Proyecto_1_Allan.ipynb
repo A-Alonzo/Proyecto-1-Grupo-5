{
 "cells": [
  {
   "cell_type": "markdown",
   "metadata": {},
   "source": [
    "# Proyecto 1: Motor de Cinemática de Proyectiles"
   ]
  },
  {
   "cell_type": "code",
   "execution_count": 1,
   "metadata": {},
   "outputs": [],
   "source": [
    "#Autor: Allan Eduardo Alonzo Artiles\n",
    "#Curso: Introducción a la programación aplicada con Python\n",
    "#Grupo: 5"
   ]
  },
  {
   "cell_type": "markdown",
   "metadata": {},
   "source": [
    "**1. Crear funciones para los objetos fundamentales: $x(t)$, $y(t)$, $\\vec{r}(t)$**."
   ]
  },
  {
   "cell_type": "markdown",
   "metadata": {},
   "source": [
    "A continuación se definirán funciones cuya interpretación es que describen la **evolución temporal** de la posición de una partícula puntual en 2D con aceleración constante en la componente vertical y aceleración cero en la componente horizontal. La evolución de tal partícula se da a partir de un denominado **estado inicial**, específicamente su estado en $t = 0$."
   ]
  },
  {
   "cell_type": "code",
   "execution_count": 2,
   "metadata": {},
   "outputs": [],
   "source": [
    "def comp_x(x0, vx0, t):\n",
    "    \"\"\"\n",
    "    Función que devuelve el desplazamiento horizontal de la partícula en un tiempo futuro.\n",
    "    \n",
    "    INPUTS: x0 = Posición horizontal inicial; vx0 = Componente de velocidad horizontal inicial; t = tiempo.\n",
    "    OUTPUT: Posición horizontal en el tiempo t.\n",
    "    \n",
    "    \"\"\"\n",
    "    pos_x = x0 + vx0*t\n",
    "    return pos_x"
   ]
  },
  {
   "cell_type": "code",
   "execution_count": 3,
   "metadata": {},
   "outputs": [],
   "source": [
    "def comp_y(y0, vy0, t, a = -9.8):\n",
    "    \"\"\"\n",
    "    Función que devuelve el desplazamiento vertical o altura de la partícula en un tiempo futuro.\n",
    "    \n",
    "    INPUTS: y0 = Posición vertical inicial; vy0 = Componente de velocidad vertical inicial; t = tiempo; a = aceleración.\n",
    "    OUTPUT: Posición vertical o altura en el tiempo t.\n",
    "    \n",
    "    \"\"\"\n",
    "    pos_y = y0 + vy0*t + a*t**2/2\n",
    "    return pos_y"
   ]
  },
  {
   "cell_type": "code",
   "execution_count": 4,
   "metadata": {},
   "outputs": [],
   "source": [
    "def posicion_r(x0, y0, vx0, vy0, t, a = -9.8):\n",
    "    \"\"\"\n",
    "    Función que devuelve la posición (x,y) de la partícula en un tiempo futuro.\n",
    "    \n",
    "    INPUTS: x0 = Posición horizontal inicial; vx0 = Componente de velocidad horizontal inicial; \n",
    "            y0 = Posición vertical inicial; vy0 = Componente de velocidad vertical inicial; t = tiempo; a = aceleración.\n",
    "    OUTPUT: Posición (x,y) en el tiempo t.\n",
    "    \n",
    "    \"\"\"\n",
    "    x = comp_x(x0, vx0, t)\n",
    "    y = comp_y(y0, vy0, t, a)\n",
    "    return (x,y)"
   ]
  },
  {
   "cell_type": "markdown",
   "metadata": {},
   "source": [
    "El estado inicial de la partícula será configurado por el usuario. Sin embargo, se quiere restringir el \"escenario\" en el que se mueve la partícula al semiplano superior cerrado, subconjunto del plano cartesiano. En otras palabras, se desea que la partícula nunca adquiera una posición vertical negativa. Además, se quiere que una vez el usuario ingrese el estado inicial del sistema, a este se le presente un gráfico de la trayectoria de la partícula. Se escribe el siguiente código:"
   ]
  },
  {
   "cell_type": "code",
   "execution_count": 5,
   "metadata": {},
   "outputs": [],
   "source": [
    "#Importe de paquetes"
   ]
  },
  {
   "cell_type": "code",
   "execution_count": 6,
   "metadata": {},
   "outputs": [],
   "source": [
    "import matplotlib.pyplot as plt\n",
    "import numpy as np\n",
    "import math"
   ]
  },
  {
   "cell_type": "code",
   "execution_count": 7,
   "metadata": {},
   "outputs": [],
   "source": [
    "def trayectoria():\n",
    "    \"\"\"\n",
    "    Función que imprime un gráfico de la trayectoria de una partícula.\n",
    "    \n",
    "    INPUT: Ninguno, pero le pide al usuario que ingrese datos desde la entrada estándar.\n",
    "    OUTPUT: Ninguno, pero muestra el gráfico de la trayectoria de una partícula.\n",
    "    \"\"\"\n",
    "    \n",
    "    #### Obteniendo información del usuario\n",
    "    # Posición inicial (x0, y0)\n",
    "    x0 = float(input(\"Ingrese la posición horizonatal inicial: \"))\n",
    "    try:\n",
    "        y0 = float(input(\"Ingrese la posición vertical inicial: \"))\n",
    "        assert y0 >= 0\n",
    "    # Si el usuario ingresó una altura negativa hacer:\n",
    "    except AssertionError: \n",
    "        print(\"ERROR: Se ingresó una altura negativa.\\n\")\n",
    "        print(\"Introduzca una altura que sea estrictamente no negativa.\\n\")\n",
    "        print(\"Intente de nuevo: \")\n",
    "        trayectoria()\n",
    "        return(None)\n",
    "    \n",
    "    # Velocidad inicial (vx0, vy0)\n",
    "    vx0 = float(input(\"Ingrese la velocidad horizonatal inicial: \"))\n",
    "    try:\n",
    "        vy0 = float(input(\"Ingrese la velocidad vertical inicial: \"))\n",
    "        assert(y0 > 0 or vy0 >= 0)\n",
    "    # Si el usuario ingresó una altura cero y una velocidad vertical inicial negativa hacer:\n",
    "    except AssertionError:\n",
    "        print(\"ERROR: Se ingresó una altura cero y a la vez una velocidad vertical negativa.\\n\")\n",
    "        print(\"Introduzca una altura y velocidad vertical que no sean a la vez cero y negativa, respectivamente.\\n\")\n",
    "        print(\"Intente de nuevo: \")\n",
    "        trayectoria()\n",
    "        return(None)\n",
    "    \n",
    "    # Aceleración por defecto\n",
    "    a = -9.8\n",
    "    \n",
    "    # Determinando el tiempo que la partícula permanece en el aire. Esto se obtiene de la ecuación de altura haciendo\n",
    "    # que la altura final sea cero y resolviendo para la variable tiempo mediante fórmula cuadrática. \n",
    "    tiempo_caida = -vy0/a - math.sqrt(vy0**2 - 2*a*y0)/a \n",
    "    \n",
    "    # Graficando la trayectoria\n",
    "    t = np.arange(0,tiempo_caida,0.1)\n",
    "    r = lambda t: posicion_r(x0,y0,vx0,vy0,t,a)\n",
    "    r = list(map(r,t))\n",
    "    \n",
    "    rx = [x for x,y in r]\n",
    "    ry = [y for x,y in r]\n",
    "    \n",
    "    plt.plot(rx, ry)\n",
    "    plt.title(\"Trayectoria del proyectil\")\n",
    "    plt.xlabel(\"Recorrido horizontal (m)\")\n",
    "    plt.ylabel(\"Altura (m)\")\n",
    "    plt.show()"
   ]
  },
  {
   "cell_type": "code",
   "execution_count": null,
   "metadata": {},
   "outputs": [],
   "source": [
    "trayectoria()"
   ]
  },
  {
   "cell_type": "markdown",
   "metadata": {},
   "source": [
    "**2. Si conoce el punto y tiempo de disparo del proyectil y punto y tiempo de caída al suelo, ¿Puede encontrar la velocidad inicial $v_0 = (v_{x_0}, v_{y_0})$ con la cual fue disparado? Si es así, programelo. Si no, indique lo que hace falta, y utilícelo para un programa que lo calcule**."
   ]
  },
  {
   "cell_type": "markdown",
   "metadata": {},
   "source": [
    "La respuesta es que si es posible determinar la velocidad inicial del proyectil dado que se conocen su posición inicial y final (o de forma más general, su posición inicial y una posición futura cualquiera) y los instantes de tiempo en los que la partícula se halla en esas posiciones. Esto puede verse como un resultado meramente algebraico u operativo, en el sentido de que las ecuaciones de posición en x e y son despejables para las variables de velocidad, o bien, más fundamentalmente como una consecuencia del principio de Hamilton (si una partícula está en un punto 1 en un tiempo t1 y en un punto 2 en un tiempo t2, con t1 y t2 fijos, la trayectoria real que sigue la partícula en ir de 1 a 2 está completamente bien definida y es aquella que hace la acción estacionaria. Como la trayectoria está bien definida también lo está el campo de velocidades de la partícula.)"
   ]
  },
  {
   "cell_type": "code",
   "execution_count": 9,
   "metadata": {},
   "outputs": [],
   "source": [
    "def comp_velocidades():\n",
    "    \"\"\"\n",
    "    Función que devuelve la velocidad inicial de disparo de un proyectil.\n",
    "    \n",
    "    INPUT: Ninguno, pero le pide al usuario que ingrese datos desde la entrada estándar.\n",
    "    OUTPUT: Velocidad (vx0,vy0) de disparo del proyectil.\n",
    "    \"\"\"\n",
    "     #### Obteniendo información del usuario\n",
    "    # Posición inicial (x0, y0)\n",
    "    x0 = float(input(\"Ingrese la posición horizonatal inicial: \"))\n",
    "    try:\n",
    "        y0 = float(input(\"Ingrese la posición vertical inicial: \"))\n",
    "        assert y0 >= 0\n",
    "    # Si el usuario ingresó una altura negativa hacer:\n",
    "    except AssertionError: \n",
    "        print(\"ERROR: Se ingresó una altura negativa.\\n\")\n",
    "        print(\"Introduzca una altura que sea estrictamente no negativa.\\n\")\n",
    "        print(\"Intente de nuevo: \")\n",
    "        comp_velocidades()\n",
    "        return(None)\n",
    "    # Tiempo inicial t0\n",
    "    try:\n",
    "        t0 = float(input(\"Ingrese el tiempo inicial: \"))\n",
    "        assert t0 >= 0\n",
    "    # Si el usuario ingresó un tiempo negativo hacer:\n",
    "    except AssertionError: \n",
    "        print(\"ERROR: Se ingresó un tiempo negativo.\\n\")\n",
    "        print(\"Introduzca un tiempo que sea estrictamente no negativo.\\n\")\n",
    "        print(\"Intente de nuevo: \")\n",
    "        comp_velocidades()\n",
    "        return(None)\n",
    "    \n",
    "    # Posición final (x_final, y_final)\n",
    "    x_final = float(input(\"Ingrese la posición horizonatal final: \"))\n",
    "    try:\n",
    "        y_final = float(input(\"Ingrese la posición vertical final: \"))\n",
    "        assert y_final >= 0\n",
    "    # Si el usuario ingresó una altura negativa hacer:\n",
    "    except AssertionError: \n",
    "        print(\"ERROR: Se ingresó una altura negativa.\\n\")\n",
    "        print(\"Introduzca una altura que sea estrictamente no negativa.\\n\")\n",
    "        print(\"Intente de nuevo: \")\n",
    "        comp_velocidades()\n",
    "        return(None)\n",
    "    \n",
    "    # Tiempo final t_final\n",
    "    try:\n",
    "        t_final = float(input(\"Ingrese el tiempo final: \"))\n",
    "        assert t_final >= 0\n",
    "    # Si el usuario ingresó un tiempo negativo hacer:\n",
    "    except AssertionError: \n",
    "        print(\"ERROR: Se ingresó un tiempo negativo.\\n\")\n",
    "        print(\"Introduzca un tiempo que sea estrictamente no negativo.\\n\")\n",
    "        print(\"Intente de nuevo: \")\n",
    "        comp_velocidades()\n",
    "        return(None)\n",
    "    \n",
    "    # Aceleración por defecto\n",
    "    a = -9.8\n",
    "    \n",
    "    # Encontrando las velocidades\n",
    "    vx0 = (x_final-x0)/(t_final-t0)\n",
    "    vy0 = (y_final-y0)/(t_final-t0) - a*(t_final-t0)/2\n",
    "    v0 = (vx0,vy0)\n",
    "    \n",
    "    #Imprimiendo velocidades\n",
    "    print(\"\\n============ Velocidad inicial ============\")\n",
    "    print(f\"La velocidad inicial es: {v0}\")\n",
    "    print(\"===========================================\")"
   ]
  },
  {
   "cell_type": "code",
   "execution_count": null,
   "metadata": {},
   "outputs": [],
   "source": [
    "comp_velocidades()"
   ]
  }
 ],
 "metadata": {
  "kernelspec": {
   "display_name": "Python 3",
   "language": "python",
   "name": "python3"
  },
  "language_info": {
   "codemirror_mode": {
    "name": "ipython",
    "version": 3
   },
   "file_extension": ".py",
   "mimetype": "text/x-python",
   "name": "python",
   "nbconvert_exporter": "python",
   "pygments_lexer": "ipython3",
   "version": "3.8.3"
  }
 },
 "nbformat": 4,
 "nbformat_minor": 4
}
