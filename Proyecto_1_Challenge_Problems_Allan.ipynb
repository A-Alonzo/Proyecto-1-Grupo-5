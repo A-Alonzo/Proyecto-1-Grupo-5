{
 "cells": [
  {
   "cell_type": "markdown",
   "metadata": {},
   "source": [
    "# Proyecto 1: Challenge Problems"
   ]
  },
  {
   "cell_type": "code",
   "execution_count": 1,
   "metadata": {},
   "outputs": [],
   "source": [
    "#Autor: Allan Eduardo Alonzo Artiles\n",
    "#Curso: Introducción a la programación aplicada con Python\n",
    "#Grupo: 5"
   ]
  },
  {
   "cell_type": "markdown",
   "metadata": {},
   "source": [
    "**3. El ángulo al cual un cañón puede disparar en contra de una fortaleza a una distancia de $m$ metros oscila entre $0$ y $\\pi/2$ radianes. Imagine que el cañón dispara aleatoriamente acorde a una distribución normal (con media $\\mu$ y desviación estándar $\\sigma$ ingresadas por el usuario) truncada al intervalo $[0, \\pi/2]$. \n",
    "     ¿Cuál es la altura $h$ óptima a la cual usted debe colocarse en la fortaleza para minizar la probabilidad de ser golpeado? ¿Hay varias soluciones $h$? ¿Bajo qué condiciones?**"
   ]
  },
  {
   "cell_type": "markdown",
   "metadata": {},
   "source": [
    "Se nos dice que un cañon dispara un proyectil a una fortaleza $m$ metros a la distancia, pero no se nos dice con que velocidad se dispara el proyectil o cuál es la altura de tal fortaleza. En vez de fortaleza imaginémonos mejor una estructura, como una torre, que tiene altura pero poca anchura (o ninguna, para simplificar el análisis). ¿Con qué rapidez, $v_0$, sale disparado el proyectil del cañon? ¿Que altura tiene la torre? ¿Cuál es la distancia $m$? Dejaremos que el usuario decida todo eso. Por supuesto, habrá ciertas restricciones. Todas las cantidades anteriores deben ser números reales positivos, claro está, pero lo que es más importante es que no toda elección arbitraria de altura, $m$ y $v_0$ será válida por la siguiente razón: Nos gustaría que el proyectil fuese capaz de golpear la torre en cualquier parte (es decir, a cualquier altura) y es claro que habrán casos en los que el proyectil no tendrá la suficiente rapidez, por ejemplo, para poder golpear la torre en su punto máximo independientemente del ángulo de disparo inicial. Si este es el caso, la solución al problema es que una persona debería colocarse en la cima de la torre pues la probabilidad que llegue un proyectil allí es cero! Para evitar esto escribimos el siguiente código:"
   ]
  },
  {
   "cell_type": "code",
   "execution_count": 15,
   "metadata": {},
   "outputs": [],
   "source": [
    "def config_parametros():\n",
    "    \"\"\"\n",
    "    Función que recibe la configuración inicial del sistema proyectil\n",
    "    \n",
    "    INPUT: Ninguno, pero le pide al usuario que ingrese datos desde la entrada estándar.\n",
    "    OUTPUT: Ninguno.\n",
    "    \"\"\"\n",
    "    # Aceleración por defecto\n",
    "    a = -9.8\n",
    "    \n",
    "    #Obteniendo datos del usuario\n",
    "    try:\n",
    "        v0 = float(input(\"Ingrese la velocidad inicial del proyectil: \"))\n",
    "        m = float(input(\"Ingrese la distancia horizontal a la que se encuentra la torre: \"))\n",
    "        altura = float(input(\"Ingrese la altura de la torre: \"))\n",
    "        aux = -a*m**2/(2*v0**2) # Variable auxiliar\n",
    "        assert m**2 - 4*aux*(aux+altura) >= 0 #Condición para que exista ángulo que lleve al proyectil a la cima de la torre\n",
    "    except AssertionError:\n",
    "        print(\"\\nError:Los valores ingresados no son adecuados: \")\n",
    "        print(\"Intente de nuevo: \")\n",
    "        config_parametros()\n",
    "        return (None)\n",
    "    else:\n",
    "        print(\"\\nParámetros iniciales ingresados con éxito.\")"
   ]
  },
  {
   "cell_type": "markdown",
   "metadata": {},
   "source": [
    "Una vez configurados los parámetros iniciales de velocidad y las dimensiones del escenario podemos pasar al siguiente punto. El cañon dispara un proyectil a un ángulo en el intervalo $[0,\\pi/2]$ aleatorio. Especificamente, el ángulo de disparo, llámese $\\theta$, es una variable aleatoria con distribución normal truncada en el intervalo $[0,\\pi/2]$. Como la altura a la que colisiona el proyectil con la torre depende del ángulo de disparo, esta altura, $H$, es también una variable aleatoria, función de la variable aleatoria $\\theta$. Podemos escribir, $H = g(\\theta)$. Nuestra tarea ahora será determinar la función $g(.)$.\n",
    "\n",
    "Para encontrar una expresión para $H$ en función de $\\theta$ usaremos como punto de partida las ecuaciones de posición en $x$ e $y$ básicas:\n",
    "\n",
    "$$\n",
    "x(t) = x_{0} + v_{x_0}t \\\\\n",
    "y(t) = y_{0} + v_{y_0}t + \\frac{a t^2}{2}\n",
    "$$\n",
    "\n",
    "Tomamos la primera ecuación y despejamos para el tiempo;seguidamente, sustituimos la expresión así obtenida para $t$ en la segunda ecuación. El proyectil se lanza desde el origen, así que $x_0 = 0$ y $y_0 = 0$. Además, usamos el hecho que podemos expresar las componentes de velocidad en x e y en términos de la magnitud de velocidad total y el ángulo de disparo:\n",
    "\n",
    "$$\n",
    "v_{x_0} = v_{0}\\cos{(\\theta)} \\\\\n",
    "v_{y_0} = v_{0}\\sin{(\\theta)}\n",
    "$$\n",
    "\n",
    "para obtener la ecuación de trayectoria:\n",
    "\n",
    "$$\n",
    "y(x) = x\\tan{(\\theta)} + \\frac{a x^2}{2 v^2\\cos^2{(\\theta)}}\n",
    "$$\n",
    "\n",
    "Identificando a $y(x)$ como $H$, la altura de colisión, y notando que la distancia horizontal $x$ sería $m$, la distancia de la torre, escribimos finalmente la expresión:\n",
    "\n",
    "$$\n",
    "H = g(\\theta) = m\\tan{(\\theta)} + \\frac{am^2}{2 v^2\\cos^2{(\\theta)}} \n",
    "$$"
   ]
  },
  {
   "cell_type": "code",
   "execution_count": null,
   "metadata": {},
   "outputs": [],
   "source": []
  }
 ],
 "metadata": {
  "kernelspec": {
   "display_name": "Python 3",
   "language": "python",
   "name": "python3"
  },
  "language_info": {
   "codemirror_mode": {
    "name": "ipython",
    "version": 3
   },
   "file_extension": ".py",
   "mimetype": "text/x-python",
   "name": "python",
   "nbconvert_exporter": "python",
   "pygments_lexer": "ipython3",
   "version": "3.8.3"
  }
 },
 "nbformat": 4,
 "nbformat_minor": 4
}
